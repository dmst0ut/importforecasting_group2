{
  "nbformat": 4,
  "nbformat_minor": 0,
  "metadata": {
    "colab": {
      "provenance": []
    },
    "kernelspec": {
      "name": "python3",
      "display_name": "Python 3"
    },
    "language_info": {
      "name": "python"
    }
  },
  "cells": [
    {
      "cell_type": "markdown",
      "source": [
        "# Predictions from Model"
      ],
      "metadata": {
        "id": "24rlKwz6tYhb"
      }
    },
    {
      "cell_type": "code",
      "source": [
        "# Un-comment to run git clone from cell, if desired\n",
        "\n",
        "# !git clone https://github.com/dmst0ut/importforecasting_group2.git\n",
        "# %cd /content/importforecasting_group2/\n"
      ],
      "metadata": {
        "id": "Ue1313Tytn5S"
      },
      "execution_count": 180,
      "outputs": []
    },
    {
      "cell_type": "markdown",
      "source": [
        "# Helper functions"
      ],
      "metadata": {
        "id": "2ApxatKfJZC4"
      }
    },
    {
      "cell_type": "markdown",
      "source": [
        "## Retrieve data from Database"
      ],
      "metadata": {
        "id": "IJWeqHLarRuT"
      }
    },
    {
      "cell_type": "code",
      "execution_count": 181,
      "metadata": {
        "colab": {
          "base_uri": "https://localhost:8080/"
        },
        "id": "F4SuHHGDmLql",
        "outputId": "0aae4dfc-31e2-4c89-cb97-e05e80795d7a"
      },
      "outputs": [
        {
          "output_type": "stream",
          "name": "stdout",
          "text": [
            "/content/importforecasting_group2\n"
          ]
        }
      ],
      "source": [
        "import sqlite3\n",
        "import pandas as pd\n",
        "\n",
        "%cd /content/importforecasting_group2/\n",
        "\n",
        "\n",
        "def retrieve_data(db_file):\n",
        "    \"\"\" create a database connection to the SQLite database\n",
        "        specified by db_file\n",
        "    :param db_file: database file\n",
        "    :return: data frame\n",
        "    \"\"\"\n",
        "\n",
        "    # Connect to DB\n",
        "    conn = sqlite3.connect('economic_data.db')\n",
        "    cursor = conn.cursor()\n",
        "\n",
        "    try:\n",
        "      cursor.execute('SELECT id, name, desc FROM series')\n",
        "      series_data = cursor.fetchall()\n",
        "\n",
        "      # Create a mapping of series id to (name, desc)\n",
        "      series_map = {row[0]: (row[1], row[2]) for row in series_data}\n",
        "\n",
        "      # Fetch from DB\n",
        "      cursor.execute('''\n",
        "          SELECT ei.date, ei.series, ei.value\n",
        "          FROM economic_indicators ei\n",
        "          JOIN series s ON ei.series = s.id\n",
        "          ORDER BY ei.date, ei.series;\n",
        "      ''')\n",
        "\n",
        "      economic_indicators = cursor.fetchall()\n",
        "\n",
        "    except Exception as e:\n",
        "      print(f\"An error occurred: {e}\")\n",
        "      conn.close()\n",
        "\n",
        "    # Close the connection\n",
        "    conn.close()\n",
        "\n",
        "    data = []\n",
        "\n",
        "    for date, series_id, value in economic_indicators:\n",
        "        name, desc = series_map[series_id]\n",
        "        data.append({'date': date, 'series': name, 'value': value})\n",
        "\n",
        "    econ_indicators_long = pd.DataFrame(data)\n",
        "\n",
        "    # Pivot DF\n",
        "    econ_indicators = econ_indicators_long.pivot(index='date', columns='series', values='value')\n",
        "\n",
        "    # Convert the index to datetime\n",
        "    econ_indicators.index = pd.to_datetime(econ_indicators.index)\n",
        "    econ_indicators = econ_indicators.asfreq(freq='QS')\n",
        "\n",
        "    return econ_indicators"
      ]
    },
    {
      "cell_type": "markdown",
      "source": [
        "## Feature creation\n",
        "\n",
        "We can approximate the weighted average tariff rate $\\tau$ of the US in a given quarter by dividing the government's total revenue from customs duties by total value of imports.\n",
        "\n",
        "$\\tau=\\dfrac{customs\\_duties}{imports}$"
      ],
      "metadata": {
        "id": "uDMJeMs9rvY1"
      }
    },
    {
      "cell_type": "code",
      "source": [
        "# Feature imports\n",
        "\n",
        "def create_features(econ_indicators):\n",
        "\n",
        "    try:\n",
        "      # Calculate weighted average tariff rate\n",
        "      econ_indicators['watr'] = econ_indicators['customs_receipts'] / (econ_indicators['imports']*10) #Correct scaling\n",
        "      print(\"Created new feature: weighted average tariff rate\")\n",
        "\n",
        "      return econ_indicators\n",
        "    except Exception as e:\n",
        "      print(f\"An error occurred: {e}\")\n",
        "\n",
        "\n",
        "\n"
      ],
      "metadata": {
        "id": "atJhtOS5p6xm"
      },
      "execution_count": 182,
      "outputs": []
    },
    {
      "cell_type": "markdown",
      "source": [
        "## Programmatically ensure all series are stationary"
      ],
      "metadata": {
        "id": "jMJYNpllvEaP"
      }
    },
    {
      "cell_type": "code",
      "source": [
        "import numpy as np\n",
        "import pandas as pd\n",
        "from statsmodels.tsa.stattools import adfuller\n",
        "from sklearn.linear_model import LinearRegression\n",
        "from sklearn.preprocessing import PolynomialFeatures\n",
        "from scipy.interpolate import UnivariateSpline\n",
        "\n",
        "# Function to check if the series is stationary\n",
        "def is_stationary(series):\n",
        "    result = adfuller(series.dropna())\n",
        "    return result[1] < 0.05  # Return True if the p-value < 0.05, indicating stationarity\n",
        "\n",
        "# First differencing function\n",
        "def apply_differencing(series):\n",
        "    return series.diff().dropna()\n",
        "\n",
        "# Polynomial regression detrending\n",
        "def apply_polynomial_trend(series, degree=2):\n",
        "    X = np.arange(len(series)).reshape(-1, 1)\n",
        "    y = series.values\n",
        "    poly = PolynomialFeatures(degree=degree)\n",
        "    X_poly = poly.fit_transform(X)\n",
        "    model = LinearRegression().fit(X_poly, y)\n",
        "    trend = model.predict(X_poly)\n",
        "    return series - trend\n",
        "\n",
        "# Spline detrending\n",
        "def apply_spline_trend(series, s=0.5):\n",
        "    X = np.arange(len(series))\n",
        "    spline = UnivariateSpline(X, series, s=s)\n",
        "    trend = spline(X)\n",
        "    return series - trend\n",
        "\n",
        "# Main recursive function to make the series stationary for all columns\n",
        "# Main recursive function to make the series stationary for all columns\n",
        "def make_stationary(df, max_iter=10, degree=2, s=0.5, exclude_columns=None):\n",
        "    \"\"\"\n",
        "    Makes the time series data stationary for the specified dataframe, excluding certain columns.\n",
        "\n",
        "    Parameters:\n",
        "    df (pd.DataFrame): The dataframe to process.\n",
        "    max_iter (int): The maximum number of iterations for checking stationarity.\n",
        "    degree (int): The degree of the polynomial for detrending (2 or 3).\n",
        "    s (float): The smoothing parameter for spline detrending.\n",
        "    exclude_columns (list): List of columns to exclude from the processing (optional).\n",
        "\n",
        "    Returns:\n",
        "    pd.DataFrame, dict: The processed dataframe and the dictionary of differencing counts for each column.\n",
        "    \"\"\"\n",
        "    # If exclude_columns is not provided, use an empty list (no columns to exclude)\n",
        "    if exclude_columns is None:\n",
        "        exclude_columns = []\n",
        "\n",
        "    differencing_counts = {}  # Dictionary to store the number of differences for each column\n",
        "\n",
        "    # Loop through each column in the dataframe\n",
        "    for column in df.columns:\n",
        "        if column in exclude_columns:\n",
        "            print(f\"Excluding column: {column}\")\n",
        "            continue  # Skip the column if it's in the exclude list\n",
        "\n",
        "        series = df[column]\n",
        "        iteration = 0\n",
        "        differencing_count = 0  # Counter to track the number of differencings for this column\n",
        "        print(f\"Processing column: {column}\")\n",
        "\n",
        "        while iteration < max_iter:\n",
        "            # Check stationarity\n",
        "            if is_stationary(series):\n",
        "                print(f\"Column {column} is stationary after {iteration} iterations.\")\n",
        "                break\n",
        "\n",
        "            # Apply differencing\n",
        "            series = apply_differencing(series)\n",
        "            differencing_count += 1  # Increment the differencing count\n",
        "\n",
        "            if is_stationary(series):\n",
        "                print(f\"Column {column} is stationary after differencing at iteration {iteration + 1}\")\n",
        "                break\n",
        "\n",
        "            # Apply polynomial detrending (quadratic or cubic)\n",
        "            series = apply_polynomial_trend(series, degree=degree)\n",
        "            if is_stationary(series):\n",
        "                print(f\"Column {column} is stationary after polynomial detrending at iteration {iteration + 1}\")\n",
        "                break\n",
        "\n",
        "            # Apply spline detrending\n",
        "            series = apply_spline_trend(series, s=s)\n",
        "            if is_stationary(series):\n",
        "                print(f\"Column {column} is stationary after spline detrending at iteration {iteration + 1}\")\n",
        "                break\n",
        "\n",
        "            iteration += 1  # Only increment iteration after attempting all transformations\n",
        "            print(f\"Iteration {iteration} completed, but series is still non-stationary.\")\n",
        "\n",
        "        # Store the number of differencings applied to this column\n",
        "        differencing_counts[column] = differencing_count\n",
        "\n",
        "        # Update the original dataframe with the detrended column\n",
        "        df[column] = series\n",
        "\n",
        "    print(\"Processing complete.\")\n",
        "\n",
        "    # Print the number of differencings applied to each column\n",
        "    print(\"\\nNumber of differences applied to each column:\")\n",
        "    for column, count in differencing_counts.items():\n",
        "        print(f\"{column}: {count} differences\")\n",
        "\n",
        "    # Return both the processed dataframe and the differencing counts\n",
        "    return df, differencing_counts\n",
        "\n",
        "# Apply the recursive stationarity function to all columns of the dataframe\n",
        "# ei_stationary, differencing_counts = make_stationary(econ_indicators)\n",
        "\n",
        "# Visualize the result\n",
        "# ei_stationary.plot(subplots=True, figsize=(10, 12), layout=(len(ei_stationary.columns), 1), title=\"Stationary Time Series\")\n"
      ],
      "metadata": {
        "id": "2q8vmrmdVVn5"
      },
      "execution_count": 183,
      "outputs": []
    },
    {
      "cell_type": "markdown",
      "source": [
        "## Create Lagged Features\n",
        "According to `forecast_horizon` parameter above"
      ],
      "metadata": {
        "id": "oKcYLDLeuuQA"
      }
    },
    {
      "cell_type": "code",
      "source": [
        "\n",
        "\n",
        "def create_lagged_features(df, min_lag=1, max_lag=1):\n",
        "    \"\"\"\n",
        "    Create lagged features for all columns in the DataFrame that are not boolean.\n",
        "    \"\"\"\n",
        "    # Filter columns to exclude boolean types\n",
        "    non_bool_columns = df.select_dtypes(exclude='bool').columns\n",
        "\n",
        "    # Create lagged features only for non-boolean columns\n",
        "    for col in non_bool_columns:\n",
        "        for i in range(min_lag, max_lag + 1):\n",
        "            df[f'{col}_lag_{i}'] = df[col].shift(i)\n",
        "\n",
        "    return df\n"
      ],
      "metadata": {
        "id": "CncesSiVRj0a"
      },
      "execution_count": 184,
      "outputs": []
    },
    {
      "cell_type": "code",
      "source": [
        "# Create lags of stationary series, no less than forecast_horizon\n",
        "def create_lags(ei_stationary, forecast_horizon=2):\n",
        "    \"\"\"\n",
        "    Create lagged features for all columns in the DataFrame that are not boolean.\n",
        "    \"\"\"\n",
        "    ei_st_lagged = create_lagged_features(ei_stationary.drop(columns = 'customs_receipts'), min_lag=forecast_horizon, max_lag=forecast_horizon+num_lags)\n",
        "\n",
        "    # Add values of import below forecast horizon, since model can predict based off of its own predictions\n",
        "    for i in range(1, forecast_horizon):\n",
        "      ei_st_lagged[f'imports_lag_{i}'] = ei_st_lagged['imports'].shift(i)\n",
        "\n",
        "\n",
        "    return ei_st_lagged"
      ],
      "metadata": {
        "id": "qiujCrdVqTnA"
      },
      "execution_count": 185,
      "outputs": []
    },
    {
      "cell_type": "markdown",
      "source": [
        "## Retrieve Model"
      ],
      "metadata": {
        "id": "2cIMbuLS3C_5"
      }
    },
    {
      "cell_type": "code",
      "source": [
        "import xgboost as xgb\n",
        "import os\n",
        "\n",
        "def retrieve_model(forecast_horizon=2, num_lags=2, input_watr=False):\n",
        "    model_filename = f'xgb_h{forecast_horizon}n{num_lags}t{1 if input_watr else 0}.json'\n",
        "    models_directory = 'models'\n",
        "    model_path = os.path.join(models_directory, model_filename)\n",
        "\n",
        "    if os.path.exists(model_path):\n",
        "        model = xgb.XGBRegressor()\n",
        "        model.load_model(model_path)\n",
        "\n",
        "        print(f\"Model loaded from {model_path}\")\n",
        "        return model\n",
        "\n",
        "    else:\n",
        "      raise FileNotFoundError(f'Model file {model_filename} not found in {models_directory}. Run train and fit script with the following parameters:\\n Forecast horizon: {forecast_horizon} quarters\\n Manual input of tariff rate: {\"Yes\" if input_watr else \"No\"}\\n Number of lags:{num_lags}')"
      ],
      "metadata": {
        "id": "YffzuEsR3BmF"
      },
      "execution_count": 186,
      "outputs": []
    },
    {
      "cell_type": "markdown",
      "source": [
        "## Prediction of differences\n",
        "* includes retrieval of model"
      ],
      "metadata": {
        "id": "VnpUf559xIY0"
      }
    },
    {
      "cell_type": "code",
      "source": [
        "def add_future_quarters(df, quarters=1):\n",
        "    if isinstance(df.index, pd.DatetimeIndex) and df.index.freq == 'QS':\n",
        "      df['future'] = False\n",
        "      for i in range(1, quarters+1):\n",
        "        new_index = df.index[-1] + pd.DateOffset(months=3)\n",
        "        new_row_df = pd.DataFrame({'future':True}, index = [new_index])\n",
        "        df = pd.concat([df, new_row_df])\n",
        "        # print(f\"Added quarter {i}, {new_row_df.index}\") #debug\n",
        "      return df\n",
        "    else:\n",
        "        raise ValueError(\"The index of the DataFrame must be a DatetimeIndex with frequency 'QS'.\")\n",
        "\n",
        "\n"
      ],
      "metadata": {
        "id": "oCQZDiV004IB"
      },
      "execution_count": 187,
      "outputs": []
    },
    {
      "cell_type": "code",
      "source": [
        "import pandas as pd\n",
        "import xgboost as xgb\n",
        "\n",
        "def predict_difference(ei_stationary, model, quarters=1, forecast_horizon=2, input_watr=False, watr_manual=None):\n",
        "\n",
        "  # Prepare future data frame\n",
        "  ei_st_future = add_future_quarters(ei_stationary, quarters=forecast_horizon)\n",
        "  ei_st_lagged_future = create_lagged_features(ei_st_future, min_lag=forecast_horizon, max_lag=forecast_horizon+3)\n",
        "  ei_st_lagged_future[ei_st_lagged_future['future'] == True]['watr'] = watr_manual\n",
        "\n",
        "  # Add values of import below forecast horizon, since model can predict based off of its own predictions\n",
        "  for i in range(1, forecast_horizon):\n",
        "    ei_st_lagged_future[f'imports_lag_{i}'] = ei_st_lagged_future['imports'].shift(i)\n",
        "\n",
        "  if input_watr == True:\n",
        "\n",
        "    for idx in ei_st_lagged_future[ei_st_lagged_future['future'] == True].index:\n",
        "      ei_st_lagged_future.loc[idx,'watr'] = watr_manual\n",
        "\n",
        "    for i in range(forecast_horizon, forecast_horizon+num_lags):\n",
        "      ei_st_lagged_future[f'watr_lag_{i}'] = ei_st_lagged_future['watr'].shift(i)\n",
        "\n",
        "  # Clarify features\n",
        "  FEATURES = model.get_booster().feature_names\n",
        "  TARGET = 'imports'\n",
        "\n",
        "  # Loop through all future rows\n",
        "  for idx in ei_st_lagged_future[ei_st_lagged_future['future'] == True].index:\n",
        "\n",
        "      # Ensure lagged values in current row are updated\n",
        "      for i in range(1, forecast_horizon+num_lags):\n",
        "          ei_st_lagged_future.loc[idx, f'imports_lag_{i}'] = ei_st_lagged_future.loc[idx - pd.DateOffset(months=3*i), 'imports']\n",
        "\n",
        "      # Predict imports for current row\n",
        "      row_features = ei_st_lagged_future.loc[idx, FEATURES]\n",
        "      predicted_imports = model.predict([row_features])[0]  # Make sure to predict a single value\n",
        "      # print(f\"{row_features}\\nPredicted imports for {idx}: {predicted_imports}\") # Debug\n",
        "\n",
        "      # Add to df\n",
        "      ei_st_lagged_future.loc[idx, 'imports'] = predicted_imports\n",
        "\n",
        "      # print(f\"Updated imports for {idx} with prediction {predicted_imports}\") # debug\n",
        "\n",
        "  return ei_st_lagged_future\n",
        "\n",
        "  plt.plot(ei_st_lagged_future[ei_st_lagged_future['future']==False]['imports'])\n",
        "  plt.plot(ei_st_lagged_future[ei_st_lagged_future['future']==True]['imports'])\n",
        "  plt.xlim(pd.to_datetime('2022-01-01'), max(ei_st_lagged_future.index))\n",
        "  plt.legend(['Actual', 'Predicted'])\n",
        "  plt.show()\n"
      ],
      "metadata": {
        "id": "Fv2WnlMO5VEG"
      },
      "execution_count": 188,
      "outputs": []
    },
    {
      "cell_type": "markdown",
      "source": [
        "## Prediction of actual import levels"
      ],
      "metadata": {
        "id": "ulteRVEWzJc8"
      }
    },
    {
      "cell_type": "code",
      "source": [
        "\n",
        "import matplotlib.pyplot as plt\n",
        "import pandas as pd\n",
        "import matplotlib.dates as mdates\n",
        "\n",
        "# Predict actual values (not differences)\n",
        "\n",
        "def predict_actual(econ_indicators_clean, ei_st_lagged_future, forecast_horizon=2):\n",
        "\n",
        "    ## Create un-differenced data frame\n",
        "    prediction = add_future_quarters(econ_indicators_clean, quarters=forecast_horizon).loc[:, ['imports', 'future']]\n",
        "    prediction.tail()\n",
        "\n",
        "    last_historical_index = prediction[prediction['future'] == False].index[-1]\n",
        "    last_historical_import = prediction.loc[last_historical_index, 'imports']\n",
        "\n",
        "    # Calculate the cumulative sum of 'imports' for future rows in 'ei_st_lagged_future'\n",
        "    cumulative_imports = ei_st_lagged_future[ei_st_lagged_future['future']==True]['imports'].cumsum()\n",
        "\n",
        "    # Update 'imports' values in 'prediction' for future rows\n",
        "    for idx, val in cumulative_imports.items():\n",
        "      prediction.loc[idx, 'imports'] = val + last_historical_import\n",
        "\n",
        "    return prediction\n",
        "\n",
        "\n"
      ],
      "metadata": {
        "id": "27NYwtLJogr2"
      },
      "execution_count": 189,
      "outputs": []
    },
    {
      "cell_type": "markdown",
      "source": [
        "## Save results\n"
      ],
      "metadata": {
        "id": "TXdqO4GQo2Lu"
      }
    },
    {
      "cell_type": "code",
      "source": [
        "import os\n",
        "\n",
        "def save_forecast(prediction, watr_manual, forecast_horizon=2, num_lags=2, input_watr=False):\n",
        "    forecast_filename_base = f'forecast_h{forecast_horizon}n{num_lags}t{(f\"{watr_manual:.0f}\" if input_watr and watr_manual is not None else \"0\")}'\n",
        "    csv_filename = f'{forecast_filename_base}.csv'\n",
        "\n",
        "    forecast_directory = 'forecasts'\n",
        "\n",
        "    if not os.path.exists(forecast_directory):\n",
        "        os.makedirs(forecast_directory)\n",
        "\n",
        "    forecast_path = os.path.join(forecast_directory, csv_filename)\n",
        "\n",
        "    prediction.to_csv(forecast_path)\n",
        "\n",
        "    return forecast_directory, forecast_filename_base\n",
        "\n",
        "    print(f\"Forecast saved to {forecast_path}\")"
      ],
      "metadata": {
        "id": "yUslg0zho_KO"
      },
      "execution_count": 190,
      "outputs": []
    },
    {
      "cell_type": "markdown",
      "source": [
        "# Main"
      ],
      "metadata": {
        "id": "O_R3lNx3LqRu"
      }
    },
    {
      "cell_type": "code",
      "source": [
        "# Ask if user wants to input weighted average tariff rate (watr)\n",
        "input_watr = input(\"Do you want to manually input a Weighted Average Tariff Rate? (yes/no): \").strip().lower()\n",
        "\n",
        "# Set input_watr to True if 'yes', False if 'no'\n",
        "if input_watr == 'yes':\n",
        "    input_watr = True\n",
        "    # If true, ask for the value of the weighted average tariff rate\n",
        "    watr_manual = float(input(\"Please input the Weighted Average Tariff Rate as a whole number\\ne.g., 5% should be 5, not 0.05: \"))\n",
        "    print(f\"Weighted Average Tariff Rate (watr) has been set to {watr_manual}.\")\n",
        "else:\n",
        "    input_watr = False\n",
        "    watr_manual = None\n",
        "    print(\"No Weighted Average Tariff Rate (watr) has been provided.\")\n",
        "\n",
        "# Display the variables\n",
        "print(f\"input_watr: {input_watr}\")\n",
        "print(f\"watr_manual: {watr_manual}\")\n",
        "print(\"Please proceed to the next cell.\")\n"
      ],
      "metadata": {
        "colab": {
          "base_uri": "https://localhost:8080/"
        },
        "id": "_YAiDynJUTkE",
        "outputId": "2bb2d756-f458-4b69-be93-1025f1fb98e6"
      },
      "execution_count": 191,
      "outputs": [
        {
          "output_type": "stream",
          "name": "stdout",
          "text": [
            "Do you want to manually input a Weighted Average Tariff Rate? (yes/no): yes\n",
            "Please input the Weighted Average Tariff Rate as a whole number\n",
            "e.g., 5% should be 5, not 0.05: 25\n",
            "Weighted Average Tariff Rate (watr) has been set to 25.0.\n",
            "input_watr: True\n",
            "watr_manual: 25.0\n",
            "Please proceed to the next cell.\n"
          ]
        }
      ]
    },
    {
      "cell_type": "code",
      "source": [
        "#===USER INPUT===#\n",
        "# Make sure to run me!\n",
        "forecast_horizon = 5 # <- Forecast horizon in quarters (including current quarter)\n",
        "num_lags = 3 # <- Number of lagged features to use\n",
        "\n",
        "# User inputs from above cell\n",
        "input_watr = input_watr\n",
        "watr_manual = watr_manual\n",
        "\n",
        "#================#\n",
        "\n",
        "# Retrieve Data from Database\n",
        "econ_indicators = retrieve_data('economic_data.db')\n",
        "\n",
        "# Clean, transform, and create features\n",
        "econ_indicators = create_features(econ_indicators)\n",
        "econ_indicators_clean = econ_indicators.copy()\n",
        "\n",
        "ei_stationary, differencing_counts = make_stationary(econ_indicators, exclude_columns='watr')\n",
        "\n",
        "# Retrieve model\n",
        "model = retrieve_model(forecast_horizon=forecast_horizon, num_lags=num_lags, input_watr=input_watr)\n",
        "\n",
        "# Predict differences\n",
        "ei_st_lagged_future = predict_difference(ei_stationary, model=model, quarters=forecast_horizon, forecast_horizon=forecast_horizon, input_watr=input_watr, watr_manual=watr_manual)\n",
        "\n",
        "# Predict actual levels\n",
        "prediction = predict_actual(econ_indicators_clean, ei_st_lagged_future, forecast_horizon=forecast_horizon)\n",
        "\n",
        "# Save prediction results\n",
        "forecast_directory, forecast_filename_base = save_forecast(prediction, watr_manual, forecast_horizon, num_lags, input_watr)\n"
      ],
      "metadata": {
        "id": "-KwT9PSftVqj",
        "colab": {
          "base_uri": "https://localhost:8080/"
        },
        "outputId": "084e83fc-9570-49dc-d492-456d29ae4212"
      },
      "execution_count": 192,
      "outputs": [
        {
          "output_type": "stream",
          "name": "stdout",
          "text": [
            "Created new feature: weighted average tariff rate\n",
            "Processing column: customs_receipts\n",
            "Column customs_receipts is stationary after differencing at iteration 1\n",
            "Processing column: fedfunds\n",
            "Column fedfunds is stationary after differencing at iteration 1\n",
            "Processing column: gdp\n",
            "Column gdp is stationary after 0 iterations.\n",
            "Processing column: imports\n",
            "Column imports is stationary after differencing at iteration 1\n",
            "Excluding column: watr\n",
            "Processing complete.\n",
            "\n",
            "Number of differences applied to each column:\n",
            "customs_receipts: 1 differences\n",
            "fedfunds: 1 differences\n",
            "gdp: 0 differences\n",
            "imports: 1 differences\n",
            "Model loaded from models/xgb_h5n3t1.json\n"
          ]
        },
        {
          "output_type": "stream",
          "name": "stderr",
          "text": [
            "<ipython-input-188-9bb7503a709f>:9: SettingWithCopyWarning: \n",
            "A value is trying to be set on a copy of a slice from a DataFrame.\n",
            "Try using .loc[row_indexer,col_indexer] = value instead\n",
            "\n",
            "See the caveats in the documentation: https://pandas.pydata.org/pandas-docs/stable/user_guide/indexing.html#returning-a-view-versus-a-copy\n",
            "  ei_st_lagged_future[ei_st_lagged_future['future'] == True]['watr'] = watr_manual\n"
          ]
        }
      ]
    },
    {
      "cell_type": "code",
      "source": [
        "import matplotlib.dates as mdates\n",
        "import pandas as pd\n",
        "import matplotlib.pyplot as plt\n",
        "\n",
        "# Plot actual and predicted imports\n",
        "plt.plot(ei_st_lagged_future[ei_st_lagged_future['future'] == False]['imports'],\n",
        "         label='Actual Imports', color='blue', linestyle='-', linewidth=2)\n",
        "plt.plot(ei_st_lagged_future[ei_st_lagged_future['future'] == True]['imports'],\n",
        "         label='Predicted Imports', color='orange', linestyle='--', linewidth=2)\n",
        "\n",
        "# Set the x-axis limits\n",
        "start_date = pd.to_datetime('2022-01-01')\n",
        "plt.xlim(start_date, max(ei_st_lagged_future.index))\n",
        "\n",
        "# Set the y-axis limits based on the data range\n",
        "plt.ylim(min(ei_st_lagged_future[ei_st_lagged_future.index >= start_date]['imports']),\n",
        "         max(ei_st_lagged_future[ei_st_lagged_future.index >= start_date]['imports']) * 1.1)\n",
        "\n",
        "# Set the locator for the x-axis to every 3 months (quarterly)\n",
        "plt.gca().xaxis.set_major_locator(mdates.MonthLocator(bymonthday=1, interval=3))  # Every 3 months\n",
        "plt.gca().xaxis.set_major_formatter(mdates.DateFormatter('%m-%Y'))  # Format as 'MM-YYYY'\n",
        "\n",
        "# Rotate x-axis labels for better readability\n",
        "plt.xticks(rotation=45)\n",
        "\n",
        "# Adding labels and title\n",
        "plt.xlabel(None)\n",
        "plt.ylabel('Imports (Difference), billions of 2017 dollars')\n",
        "plt.title('Imports Difference Forecast')\n",
        "\n",
        "# Show legend\n",
        "plt.legend()\n",
        "\n",
        "# Add grid for better readability\n",
        "plt.grid(True)\n",
        "\n",
        "# Display the plot\n",
        "plt.show()\n",
        "plt.savefig(f'{forecast_directory}/{forecast_filename_base}_difference.png')\n"
      ],
      "metadata": {
        "colab": {
          "base_uri": "https://localhost:8080/",
          "height": 506
        },
        "id": "DgVZDjg-Rscx",
        "outputId": "c2f1f6b3-a52f-48c1-b95c-4abaf1a428fe"
      },
      "execution_count": 193,
      "outputs": [
        {
          "output_type": "display_data",
          "data": {
            "text/plain": [
              "<Figure size 640x480 with 1 Axes>"
            ],
            "image/png": "[encoded data removed]"
          },
          "metadata": {}
        },
        {
          "output_type": "display_data",
          "data": {
            "text/plain": [
              "<Figure size 640x480 with 0 Axes>"
            ]
          },
          "metadata": {}
        }
      ]
    },
    {
      "cell_type": "code",
      "source": [
        "# Plot predicted actual levels\n",
        "\n",
        "plt.plot(prediction[prediction['future'] == False]['imports'], label='Past Imports', color='blue', linestyle='-', linewidth=2)\n",
        "plt.plot(prediction[prediction['future'] == True]['imports'], label='Predicted Imports', color='orange', linestyle='--', linewidth=2)\n",
        "\n",
        "# Set the x-axis limits\n",
        "start_date = pd.to_datetime('2022-01-01')\n",
        "plt.xlim(start_date, max(prediction.index))\n",
        "plt.ylim(min(prediction[prediction.index>=start_date]['imports']), max(prediction[prediction.index>=start_date]['imports'])*1.1)\n",
        "\n",
        "# Set the locator for the x-axis to every 3 months (i.e., quarterly)\n",
        "plt.gca().xaxis.set_major_locator(mdates.MonthLocator(bymonthday=1, interval=3))  # Every 3 months\n",
        "plt.gca().xaxis.set_major_formatter(mdates.DateFormatter('%m-%Y'))  # Format as 'Q1 2022', 'Q2 2022', etc.\n",
        "\n",
        "# Rotate x-axis labels for better readability\n",
        "plt.xticks(rotation=45)\n",
        "\n",
        "# Adding labels and title\n",
        "plt.xlabel(None)\n",
        "plt.ylabel('Imports, billions of 2017 dollars')\n",
        "plt.title('Imports Forecast')\n",
        "\n",
        "# Show legend\n",
        "plt.legend()\n",
        "\n",
        "# Add grid for better readability\n",
        "plt.grid(True)\n",
        "\n",
        "# Display the plot\n",
        "plt.show()\n",
        "plt.savefig(f'{forecast_directory}/{forecast_filename_base}_actual.png')\n"
      ],
      "metadata": {
        "colab": {
          "base_uri": "https://localhost:8080/",
          "height": 506
        },
        "id": "i3iHJnAOR1gj",
        "outputId": "5fcb850b-0e8a-41f3-ff0a-562f8882bf1a"
      },
      "execution_count": 194,
      "outputs": [
        {
          "output_type": "display_data",
          "data": {
            "text/plain": [
              "<Figure size 640x480 with 1 Axes>"
            ],
            "image/png": "[encoded data removed]"
          },
          "metadata": {}
        },
        {
          "output_type": "display_data",
          "data": {
            "text/plain": [
              "<Figure size 640x480 with 0 Axes>"
            ]
          },
          "metadata": {}
        }
      ]
    }
  ]
}