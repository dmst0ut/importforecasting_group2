{
  "nbformat": 4,
  "nbformat_minor": 0,
  "metadata": {
    "colab": {
      "provenance": [],
      "include_colab_link": true
    },
    "kernelspec": {
      "name": "python3",
      "display_name": "Python 3"
    },
    "language_info": {
      "name": "python"
    }
  },
  "cells": [
    {
      "cell_type": "markdown",
      "metadata": {
        "id": "view-in-github",
        "colab_type": "text"
      },
      "source": [
        "<a href=\"https://colab.research.google.com/github/dmst0ut/importforecasting_group2/blob/main/Get_data.ipynb\" target=\"_parent\"><img src=\"https://colab.research.google.com/assets/colab-badge.svg\" alt=\"Open In Colab\"/></a>"
      ]
    },
    {
      "cell_type": "code",
      "execution_count": null,
      "metadata": {
        "id": "zjwQuvkdVUzF",
        "colab": {
          "base_uri": "https://localhost:8080/"
        },
        "outputId": "99f2c89b-b8fa-4ef7-ad5b-a8e4167f433c"
      },
      "outputs": [
        {
          "output_type": "stream",
          "name": "stdout",
          "text": [
            "\n",
            "Fetched T10101: 264 unique periods\n",
            "\n",
            "Fetched T30200: 264 unique periods\n",
            "\n",
            "Merged DataFrame:\n",
            "            Gross domestic product (GDP & Economic Indicators)  \\\n",
            "Date                                                             \n",
            "1959-01-01                                                7.9    \n",
            "1959-04-01                                                9.3    \n",
            "1959-07-01                                                0.3    \n",
            "1959-10-01                                                1.1    \n",
            "1960-01-01                                                9.3    \n",
            "\n",
            "            Customs duties (Government Receipts & Outlays)  \n",
            "Date                                                        \n",
            "1959-01-01                                             952  \n",
            "1959-04-01                                            1076  \n",
            "1959-07-01                                            1092  \n",
            "1959-10-01                                            1076  \n",
            "1960-01-01                                            1176  \n",
            "Gross domestic product (GDP & Economic Indicators)    float64\n",
            "Customs duties (Government Receipts & Outlays)          int64\n",
            "dtype: object\n"
          ]
        }
      ],
      "source": [
        "# Retrieve BEA Data using BEA API\n",
        "  # GDP (2017 chained dollars)\n",
        "  # Government Revenue from Customs Duties (2017 chained dollars)\n",
        "  # Foreign transactions: total imports (2017 chained dollars)\n",
        "\n",
        "import requests\n",
        "import pandas as pd\n",
        "from google.colab import userdata\n",
        "\n",
        "# Retrieve BEA API key from Google Colab secrets\n",
        "BEA_API_key = userdata.get('BEA_API_key')\n",
        "\n",
        "# ====== USER INPUT ======\n",
        "user_id = BEA_API_key  # Replace with your actual BEA API key\n",
        "tables = {\n",
        "    \"T10101\": {\"name\": \"GDP & Economic Indicators\", \"lines\": [\"1\"]},  # Table 1.1.3 - GDP\n",
        "    \"T30200\": {\"name\": \"Government Receipts & Outlays\", \"lines\": [\"6\"]},  # Table 3.2 - Total Receipts\n",
        "#    \"T40206B\": {\"name\": \"Imports\", \"lines\": [\"94\"]}  # Table 4.2.6B - Foreign Transactions: Imports\n",
        "}\n",
        "start_year = 1959\n",
        "end_year = 2024\n",
        "frequency = \"Q\"  # A = Annual, Q = Quarterly, M = Monthly\n",
        "# ========================\n",
        "\n",
        "# Convert year range to comma-separated string\n",
        "years = \",\".join(str(year) for year in range(start_year, end_year + 1))\n",
        "\n",
        "# Base API URL\n",
        "base_url = \"https://apps.bea.gov/api/data\"\n",
        "\n",
        "def fetch_bea_data(table_name, lines):\n",
        "    \"\"\"Fetches BEA data for a specific table and returns a formatted DataFrame.\"\"\"\n",
        "    params = {\n",
        "        \"UserID\": user_id,\n",
        "        \"method\": \"GetData\",\n",
        "        \"DataSetName\": \"NIPA\",\n",
        "        \"TableName\": table_name,\n",
        "        \"Frequency\": frequency,\n",
        "        \"Year\": years,\n",
        "        \"ResultFormat\": \"JSON\"\n",
        "    }\n",
        "\n",
        "    response = requests.get(base_url, params=params)\n",
        "\n",
        "    if response.status_code == 200:\n",
        "        data = response.json()\n",
        "        try:\n",
        "            df = pd.DataFrame(data[\"BEAAPI\"][\"Results\"][\"Data\"])\n",
        "\n",
        "            # Convert TimePeriod to datetime\n",
        "            df[\"Date\"] = pd.PeriodIndex(df[\"TimePeriod\"], freq='Q').to_timestamp()\n",
        "\n",
        "            # Ensure numerical values\n",
        "            df['DataValue'] = pd.to_numeric(df['DataValue'].str.replace(',', '', regex=False), errors='coerce')\n",
        "\n",
        "            # Filter only the required lines\n",
        "            df = df[df[\"LineNumber\"].isin(lines)]\n",
        "\n",
        "            # Debugging: Print missing values in time periods\n",
        "            print(f\"\\nFetched {table_name}: {df['TimePeriod'].nunique()} unique periods\")\n",
        "\n",
        "            # Pivot the table safely\n",
        "            df = df.pivot_table(index=\"Date\", columns=\"LineDescription\", values=\"DataValue\", aggfunc=\"first\")\n",
        "\n",
        "            # Rename columns with table identifiers\n",
        "            df.columns = [f\"{col} ({tables[table_name]['name']})\" for col in df.columns]\n",
        "\n",
        "            return df\n",
        "        except KeyError:\n",
        "            print(f\"Unexpected JSON structure for Table {table_name}: {data}\")\n",
        "            return None\n",
        "    else:\n",
        "        print(f\"Error {response.status_code}: {response.text}\")\n",
        "        return None\n",
        "\n",
        "# Fetch data for selected tables & lines\n",
        "dataframes = {table: fetch_bea_data(table, info[\"lines\"]) for table, info in tables.items()}\n",
        "dataframes = {k: v for k, v in dataframes.items() if v is not None}  # Remove None values\n",
        "\n",
        "# Standardize the date index before merging\n",
        "# for key, df in dataframes.items():\n",
        "#    df.index = df.index.to_period(\"Q\")  # Convert to quarterly periods to align\n",
        "\n",
        "# Merge all DataFrames on TimePeriod\n",
        "if dataframes:\n",
        "    # Start merging with the first DataFrame\n",
        "    merged_df = None\n",
        "    for key, df in dataframes.items():\n",
        "        if merged_df is None:\n",
        "            merged_df = df\n",
        "        else:\n",
        "            merged_df = merged_df.merge(df, left_index=True, right_index=True, how=\"outer\")  # Keep all data\n",
        "\n",
        "    # Debugging: Print rows with NaN values\n",
        "    missing_values = merged_df.isna().sum(axis=1)\n",
        "    if missing_values.any():\n",
        "        print(\"\\nRows with missing values (check for time misalignment):\")\n",
        "        print(merged_df[missing_values > 0])\n",
        "\n",
        "    # Display the merged DataFrame\n",
        "    print(\"\\nMerged DataFrame:\")\n",
        "    print(merged_df.head())\n",
        "    print(merged_df.dtypes)\n",
        "else:\n",
        "    print(\"No data retrieved from BEA API.\")"
      ]
    },
    {
      "cell_type": "code",
      "source": [
        "import requests\n",
        "import pandas as pd\n",
        "from google.colab import userdata\n",
        "\n",
        "# Retrieve FRED API key from Google Colab secrets\n",
        "FRED_API_key = userdata.get('FRED_API_key')\n",
        "\n",
        "# ====== USER INPUT ======\n",
        "series_ids = {\n",
        "    \"Federal Funds Rate (FRED)\": \"FEDFUNDS\",\n",
        "    \"Real Imports (FRED)\": \"IMPGSC1\"\n",
        "}\n",
        "start_date = \"1959-01-01\"\n",
        "end_date = \"2024-12-31\"\n",
        "frequency = \"q\"  # Quarterly\n",
        "# ========================\n",
        "\n",
        "# Base API URL for FRED\n",
        "fred_base_url = \"https://api.stlouisfed.org/fred/series/observations\"\n",
        "\n",
        "# Function to fetch a FRED series into a DataFrame\n",
        "def fetch_fred_series(series_id, series_name):\n",
        "    params = {\n",
        "        \"series_id\": series_id,\n",
        "        \"api_key\": FRED_API_key,\n",
        "        \"file_type\": \"json\",\n",
        "        \"observation_start\": start_date,\n",
        "        \"observation_end\": end_date,\n",
        "        \"frequency\": frequency,\n",
        "        \"aggregation_method\": \"avg\"\n",
        "    }\n",
        "\n",
        "    response = requests.get(fred_base_url, params=params)\n",
        "\n",
        "    if response.status_code == 200:\n",
        "        data = response.json()\n",
        "        df = pd.DataFrame(data[\"observations\"])\n",
        "        df[\"date\"] = pd.to_datetime(df[\"date\"])\n",
        "        df.set_index(\"date\", inplace=True)\n",
        "        df = df.drop(columns=[\"realtime_start\", \"realtime_end\"])\n",
        "        df[\"value\"] = pd.to_numeric(df[\"value\"], errors=\"coerce\")\n",
        "        df.rename(columns={\"value\": series_name}, inplace=True)\n",
        "        return df\n",
        "    else:\n",
        "        print(f\"Error fetching {series_id}: {response.status_code}\")\n",
        "        return pd.DataFrame()\n",
        "\n",
        "# Fetch both series\n",
        "fedfunds_df = fetch_fred_series(\"FEDFUNDS\", \"Federal Funds Rate (FRED)\")\n",
        "imports_df = fetch_fred_series(\"IMPGSC1\", \"Real Imports (FRED)\")\n",
        "\n",
        "# Merge with existing BEA dataset\n",
        "final_merged_df = merged_df.join(fedfunds_df, how=\"left\")\n",
        "final_merged_df = final_merged_df.join(imports_df, how=\"left\")\n",
        "\n",
        "# Display result\n",
        "print(final_merged_df.head())\n",
        "print(final_merged_df.dtypes)\n"
      ],
      "metadata": {
        "id": "oyk8ldXhVj4O",
        "colab": {
          "base_uri": "https://localhost:8080/"
        },
        "outputId": "e07a8f4e-e633-48b1-90e2-a722d7813fe0"
      },
      "execution_count": null,
      "outputs": [
        {
          "output_type": "stream",
          "name": "stdout",
          "text": [
            "            Gross domestic product (GDP & Economic Indicators)  \\\n",
            "Date                                                             \n",
            "1959-01-01                                                7.9    \n",
            "1959-04-01                                                9.3    \n",
            "1959-07-01                                                0.3    \n",
            "1959-10-01                                                1.1    \n",
            "1960-01-01                                                9.3    \n",
            "\n",
            "            Customs duties (Government Receipts & Outlays)  \\\n",
            "Date                                                         \n",
            "1959-01-01                                             952   \n",
            "1959-04-01                                            1076   \n",
            "1959-07-01                                            1092   \n",
            "1959-10-01                                            1076   \n",
            "1960-01-01                                            1176   \n",
            "\n",
            "            Federal Funds Rate (FRED)  Real Imports (FRED)  \n",
            "Date                                                        \n",
            "1959-01-01                       2.57              115.440  \n",
            "1959-04-01                       3.08              121.057  \n",
            "1959-07-01                       3.58              122.212  \n",
            "1959-10-01                       3.99              119.109  \n",
            "1960-01-01                       3.93              123.608  \n",
            "Gross domestic product (GDP & Economic Indicators)    float64\n",
            "Customs duties (Government Receipts & Outlays)          int64\n",
            "Federal Funds Rate (FRED)                             float64\n",
            "Real Imports (FRED)                                   float64\n",
            "dtype: object\n"
          ]
        }
      ]
    },
    {
      "cell_type": "code",
      "source": [
        "%cd /content/importforecasting_group2\n",
        "\n",
        "import sqlite3\n",
        "\n",
        "# Connect to the SQLite database (or create it if it doesn't exist)\n",
        "conn = sqlite3.connect('economic_data.db')\n",
        "cursor = conn.cursor()\n",
        "\n",
        "# Read the DDL script from the file\n",
        "with open('DDL.txt', 'r') as ddl_file:\n",
        "    ddl_script = ddl_file.read()\n",
        "\n",
        "# Execute the DDL script\n",
        "cursor.executescript(ddl_script)\n",
        "\n",
        "# Commit the changes and close the connection\n",
        "conn.commit()\n",
        "conn.close()\n"
      ],
      "metadata": {
        "id": "mPRuXvGLXlW6",
        "outputId": "e8e10fed-82cf-4b07-f67c-1dcc5e46be28",
        "colab": {
          "base_uri": "https://localhost:8080/"
        }
      },
      "execution_count": 3,
      "outputs": [
        {
          "output_type": "stream",
          "name": "stdout",
          "text": [
            "/content/importforecasting_group2\n"
          ]
        }
      ]
    },
    {
      "cell_type": "code",
      "source": [
        "# Generate a new column: weighted average tariff = customs duties / imports of goods and services\n",
        "\n",
        "try:\n",
        "  final_merged_df['Weighted Average Tariff Rate'] = final_merged_df['Customs duties (Government Receipts & Outlays)'] / final_merged_df['Real Imports (FRED)']\n",
        "except KeyError:\n",
        "  print(\"Error: One or more columns are not found in the dataframe. Please verify your column names.\")\n",
        "\n",
        "print(final_merged_df.head())"
      ],
      "metadata": {
        "id": "IaPPhkevWD_C",
        "colab": {
          "base_uri": "https://localhost:8080/"
        },
        "outputId": "b8c95e99-a870-4d9e-cf14-90076326eeba"
      },
      "execution_count": null,
      "outputs": [
        {
          "output_type": "stream",
          "name": "stdout",
          "text": [
            "            Gross domestic product (GDP & Economic Indicators)  \\\n",
            "Date                                                             \n",
            "1959-01-01                                                7.9    \n",
            "1959-04-01                                                9.3    \n",
            "1959-07-01                                                0.3    \n",
            "1959-10-01                                                1.1    \n",
            "1960-01-01                                                9.3    \n",
            "\n",
            "            Customs duties (Government Receipts & Outlays)  \\\n",
            "Date                                                         \n",
            "1959-01-01                                             952   \n",
            "1959-04-01                                            1076   \n",
            "1959-07-01                                            1092   \n",
            "1959-10-01                                            1076   \n",
            "1960-01-01                                            1176   \n",
            "\n",
            "            Federal Funds Rate (FRED)  Real Imports (FRED)  \\\n",
            "Date                                                         \n",
            "1959-01-01                       2.57              115.440   \n",
            "1959-04-01                       3.08              121.057   \n",
            "1959-07-01                       3.58              122.212   \n",
            "1959-10-01                       3.99              119.109   \n",
            "1960-01-01                       3.93              123.608   \n",
            "\n",
            "            Weighted Average Tariff Rate  \n",
            "Date                                      \n",
            "1959-01-01                      8.246708  \n",
            "1959-04-01                      8.888375  \n",
            "1959-07-01                      8.935293  \n",
            "1959-10-01                      9.033742  \n",
            "1960-01-01                      9.513947  \n"
          ]
        }
      ]
    },
    {
      "cell_type": "code",
      "source": [
        "%cd"
      ],
      "metadata": {
        "colab": {
          "base_uri": "https://localhost:8080/"
        },
        "id": "xubarMRKWrQJ",
        "outputId": "7c9ed351-7a84-4fc4-9959-ac600d9c23a7"
      },
      "execution_count": null,
      "outputs": [
        {
          "output_type": "stream",
          "name": "stdout",
          "text": [
            "/root\n"
          ]
        }
      ]
    },
    {
      "cell_type": "code",
      "source": [
        "from google.colab import drive\n",
        "drive.mount('/content/drive')"
      ],
      "metadata": {
        "colab": {
          "base_uri": "https://localhost:8080/"
        },
        "id": "SYD6x-ZHXzOx",
        "outputId": "70c4db4d-0431-4859-ea8f-8c1216f30577"
      },
      "execution_count": null,
      "outputs": [
        {
          "output_type": "stream",
          "name": "stdout",
          "text": [
            "Mounted at /content/drive\n"
          ]
        }
      ]
    },
    {
      "cell_type": "code",
      "source": [
        "# Store df as a Pickle\n",
        "import pickle\n",
        "\n",
        "with open('/content/drive/MyDrive/DSAPEC/importforecasting_group2/econ_data.pkl', 'wb') as f:\n",
        "       pickle.dump(final_merged_df, f)"
      ],
      "metadata": {
        "id": "MfnFXPOHWLgR"
      },
      "execution_count": null,
      "outputs": []
    }
  ]
}